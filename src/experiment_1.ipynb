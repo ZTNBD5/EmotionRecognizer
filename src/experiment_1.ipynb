{
 "cells": [
  {
   "cell_type": "code",
   "execution_count": null,
   "metadata": {},
   "outputs": [],
   "source": [
    "import pickle\n",
    "\n",
    "#participantCount = 32\n",
    "participantCount = 1\n",
    "\n",
    "rawData = [{}]*participantCount\n",
    "\n",
    "for i in range(participantCount):\n",
    "    rawData[i] = pickle.load(open(f'../data/s{i+1:02}.dat', 'rb'), encoding=\"latin1\")"
   ]
  },
  {
   "cell_type": "code",
   "execution_count": null,
   "metadata": {},
   "outputs": [],
   "source": [
    "import numpy as np\n",
    "\n",
    "labels = np.array(list(map(lambda participant : participant['labels'], rawData)))\n",
    "data = np.array(list(map(lambda participant : participant['data'], rawData)))"
   ]
  },
  {
   "cell_type": "code",
   "execution_count": null,
   "metadata": {},
   "outputs": [],
   "source": [
    "print(labels.shape)\n",
    "print(data.shape)"
   ]
  },
  {
   "cell_type": "code",
   "execution_count": null,
   "metadata": {},
   "outputs": [],
   "source": [
    "def get_y(emotion):\n",
    "    return (labels.reshape(-1, 4)[:, emotion] > 5).astype(int)\n",
    "\n",
    "def get_eeg_x():\n",
    "    return data[:, :, :32, :].reshape(-1, 32 * 8064)\n",
    "\n",
    "def get_peripheral_x():\n",
    "    return data[:, :, 32:, :].reshape(-1, 8 * 8064)"
   ]
  },
  {
   "cell_type": "markdown",
   "metadata": {},
   "source": [
    "Labels: (participants X video X label(valence, arousal, dominance, liking))  \n",
    "Data: (participants X video X channel X data)"
   ]
  },
  {
   "cell_type": "code",
   "execution_count": null,
   "metadata": {},
   "outputs": [],
   "source": [
    "from sklearn.model_selection import train_test_split\n",
    "from sklearn.naive_bayes import GaussianNB\n",
    "from sklearn.model_selection import cross_val_score\n",
    "from sklearn.model_selection import LeaveOneOut\n",
    "\n",
    "gnb = GaussianNB()\n",
    "\n",
    "X = get_eeg_x()\n",
    "y = get_y(0)\n",
    "\n",
    "cross_val_score(gnb, X, y, cv=LeaveOneOut().split(X))"
   ]
  },
  {
   "cell_type": "code",
   "execution_count": null,
   "metadata": {},
   "outputs": [],
   "source": []
  }
 ],
 "metadata": {
  "kernelspec": {
   "display_name": "Python 3",
   "language": "python",
   "name": "python3"
  },
  "language_info": {
   "codemirror_mode": {
    "name": "ipython",
    "version": 3
   },
   "file_extension": ".py",
   "mimetype": "text/x-python",
   "name": "python",
   "nbconvert_exporter": "python",
   "pygments_lexer": "ipython3",
   "version": "3.7.6"
  }
 },
 "nbformat": 4,
 "nbformat_minor": 2
}
