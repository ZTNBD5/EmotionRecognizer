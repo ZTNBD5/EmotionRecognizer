{
 "cells": [
  {
   "cell_type": "code",
   "execution_count": 12,
   "metadata": {},
   "outputs": [],
   "source": [
    "import pickle\n",
    "import numpy as np\n",
    "from sklearn.model_selection import train_test_split, cross_val_score, LeaveOneOut, KFold\n",
    "from sklearn.naive_bayes import GaussianNB\n",
    "from sklearn.neural_network import MLPClassifier\n",
    "from sklearn.dummy import DummyClassifier\n",
    "\n",
    "# max 32\n",
    "participantCount = 24\n",
    "\n",
    "# Labels: (participants X video X label(valence, arousal, dominance, liking))  \n",
    "# Data: (participants X video X channel X data)\n",
    "def load_data():\n",
    "    rawData = [{}]*participantCount\n",
    "    for i in range(participantCount):\n",
    "        rawData[i] = pickle.load(open(f'../data/s{i+1:02}.dat', 'rb'), encoding=\"latin1\")    \n",
    "    labels = np.array(list(map(lambda participant : participant['labels'], rawData)))\n",
    "    data = np.array(list(map(lambda participant : participant['data'], rawData)))\n",
    "    return data, labels\n",
    "\n",
    "def get_y(emotion):\n",
    "    return (labels.reshape(-1, 4)[:, emotion] > 5).astype(int)\n",
    "\n",
    "def get_eeg_x():\n",
    "    return data[:, :, :32, :].reshape(-1, 32 * 8064)\n",
    "\n",
    "def get_peripheral_x():\n",
    "    return data[:, :, 32:, :].reshape(-1, 8 * 8064)\n",
    "\n",
    "def test_clf(clf, X, y, scoring):\n",
    "    return cross_val_score(clf, X, y, cv=KFold(n_splits=10, shuffle=True), scoring=scoring).mean()\n",
    "\n",
    "def train(X, y):\n",
    "    print(\"---------------------------------------------------------\")\n",
    "    print(\"random accuracy: \", test_clf(DummyClassifier(strategy=\"uniform\"), X, y, 'accuracy'))\n",
    "    print(\"random f1: \", test_clf(DummyClassifier(strategy=\"uniform\"), X, y, 'f1'))\n",
    "    print(\"majority class accuracy: \", test_clf(DummyClassifier(strategy=\"most_frequent\"), X, y, 'accuracy'))\n",
    "    print(\"majority class f1: \", test_clf(DummyClassifier(strategy=\"most_frequent\"), X, y, 'f1'))\n",
    "    print(\"class ratio accuracy: \", test_clf(DummyClassifier(strategy=\"stratified\"), X, y, 'accuracy'))\n",
    "    print(\"class ratio f1: \", test_clf(DummyClassifier(strategy=\"stratified\"), X, y, 'f1'))\n",
    "    print(\"GaussianNB accuracy: \", test_clf(GaussianNB(), X, y, 'accuracy'))\n",
    "    print(\"GaussianNB f1: \", test_clf(GaussianNB(), X, y, 'f1'))"
   ]
  },
  {
   "cell_type": "code",
   "execution_count": 3,
   "metadata": {},
   "outputs": [],
   "source": [
    "data, labels = load_data()"
   ]
  },
  {
   "cell_type": "code",
   "execution_count": 13,
   "metadata": {},
   "outputs": [
    {
     "name": "stdout",
     "output_type": "stream",
     "text": [
      "---------------------------------------------------------\n",
      "random accuracy:  0.5114583333333333\n",
      "random f1:  0.5103491351129303\n",
      "majority class accuracy:  0.5364583333333333\n",
      "majority class f1:  0.6972547716060691\n",
      "class ratio accuracy:  0.5020833333333334\n",
      "class ratio f1:  0.5290521590159492\n",
      "GaussianNB accuracy:  0.540625\n",
      "GaussianNB f1:  0.654902677412347\n",
      "---------------------------------------------------------\n",
      "random accuracy:  0.4875\n",
      "random f1:  0.5108678086832908\n",
      "majority class accuracy:  0.5791666666666667\n",
      "majority class f1:  0.732877828528946\n",
      "class ratio accuracy:  0.475\n",
      "class ratio f1:  0.5834197319299349\n",
      "GaussianNB accuracy:  0.5739583333333333\n",
      "GaussianNB f1:  0.6652924209876158\n",
      "---------------------------------------------------------\n",
      "random accuracy:  0.5145833333333333\n",
      "random f1:  0.5597435563133597\n",
      "majority class accuracy:  0.6697916666666666\n",
      "majority class f1:  0.8003118645967338\n",
      "class ratio accuracy:  0.5510416666666667\n",
      "class ratio f1:  0.6662082248300681\n",
      "GaussianNB accuracy:  0.6447916666666667\n",
      "GaussianNB f1:  0.7561309762739057\n",
      "---------------------------------------------------------\n",
      "random accuracy:  0.5177083333333333\n",
      "random f1:  0.49742109501204734\n",
      "majority class accuracy:  0.5364583333333333\n",
      "majority class f1:  0.6973005530465313\n",
      "class ratio accuracy:  0.4979166666666667\n",
      "class ratio f1:  0.5245607516810782\n",
      "GaussianNB accuracy:  0.4729166666666666\n",
      "GaussianNB f1:  0.24973809467575653\n",
      "---------------------------------------------------------\n",
      "random accuracy:  0.5260416666666666\n",
      "random f1:  0.5193926455814957\n",
      "majority class accuracy:  0.5791666666666667\n",
      "majority class f1:  0.7324295808521466\n",
      "class ratio accuracy:  0.5260416666666667\n",
      "class ratio f1:  0.566629076557075\n",
      "GaussianNB accuracy:  0.4479166666666667\n",
      "GaussianNB f1:  0.13895461142171667\n",
      "---------------------------------------------------------\n",
      "random accuracy:  0.5\n",
      "random f1:  0.5741552431764646\n",
      "majority class accuracy:  0.6697916666666667\n",
      "majority class f1:  0.8015667161028844\n",
      "class ratio accuracy:  0.5208333333333333\n",
      "class ratio f1:  0.6468149854038125\n",
      "GaussianNB accuracy:  0.6104166666666667\n",
      "GaussianNB f1:  0.7163468707310502\n"
     ]
    }
   ],
   "source": [
    "emotions = [0, 1, 3]\n",
    "features = [get_eeg_x, get_peripheral_x]\n",
    "\n",
    "for feature in features:\n",
    "    X = feature()\n",
    "    for emotion in emotions:\n",
    "        y = get_y(emotion)\n",
    "        train(X, y)"
   ]
  },
  {
   "cell_type": "code",
   "execution_count": null,
   "metadata": {},
   "outputs": [],
   "source": [
    "clf = \n",
    "cross_val_score(clf)"
   ]
  }
 ],
 "metadata": {
  "kernelspec": {
   "display_name": "Python 3",
   "language": "python",
   "name": "python3"
  },
  "language_info": {
   "codemirror_mode": {
    "name": "ipython",
    "version": 3
   },
   "file_extension": ".py",
   "mimetype": "text/x-python",
   "name": "python",
   "nbconvert_exporter": "python",
   "pygments_lexer": "ipython3",
   "version": "3.7.6"
  }
 },
 "nbformat": 4,
 "nbformat_minor": 2
}
