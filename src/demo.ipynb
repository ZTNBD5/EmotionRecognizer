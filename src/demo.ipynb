{
 "metadata": {
  "language_info": {
   "codemirror_mode": {
    "name": "ipython",
    "version": 3
   },
   "file_extension": ".py",
   "mimetype": "text/x-python",
   "name": "python",
   "nbconvert_exporter": "python",
   "pygments_lexer": "ipython3",
   "version": "3.6.5-final"
  },
  "orig_nbformat": 2,
  "kernelspec": {
   "name": "python36564bitd7ba85b1fed04f72bc0a2bc7a55f6761",
   "display_name": "Python 3.6.5 64-bit"
  }
 },
 "nbformat": 4,
 "nbformat_minor": 2,
 "cells": [
  {
   "cell_type": "code",
   "execution_count": 1,
   "metadata": {},
   "outputs": [],
   "source": [
    "import pickle\n",
    "\n",
    "participantCount = 32\n",
    "\n",
    "rawData = [{}]*participantCount\n",
    "\n",
    "for i in range(participantCount):\n",
    "    rawData[i] = pickle.load(open(f'..\\data\\s{i+1:02}.dat', 'rb'), encoding=\"latin1\")"
   ]
  },
  {
   "cell_type": "code",
   "execution_count": 2,
   "metadata": {},
   "outputs": [],
   "source": [
    "import numpy as np\n",
    "\n",
    "labels = np.array(list(map(lambda participant : participant['labels'], rawData)))\n",
    "data = np.array(list(map(lambda participant : participant['data'], rawData)))"
   ]
  },
  {
   "cell_type": "code",
   "execution_count": 3,
   "metadata": {},
   "outputs": [
    {
     "output_type": "stream",
     "name": "stdout",
     "text": [
      "(32, 40, 4)\n(32, 40, 40, 8064)\n"
     ]
    }
   ],
   "source": [
    "print(labels.shape)\n",
    "print(data.shape)"
   ]
  },
  {
   "source": [
    "Labels: (participants X video X label(valence, arousal, dominance, liking))  \n",
    "Data: (participants X video X channel X data)"
   ],
   "cell_type": "markdown",
   "metadata": {}
  }
 ]
}