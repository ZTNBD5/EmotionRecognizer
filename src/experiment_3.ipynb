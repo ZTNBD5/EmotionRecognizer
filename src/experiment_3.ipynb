{
 "cells": [
  {
   "cell_type": "code",
   "execution_count": null,
   "metadata": {},
   "outputs": [],
   "source": [
    "import pickle\n",
    "import numpy as np\n",
    "\n",
    "participantCount = 32\n",
    "\n",
    "rawData = [{}]*participantCount\n",
    "\n",
    "for i in range(participantCount):\n",
    "    rawData[i] = pickle.load(open(f'../data/s{i+1:02}.dat', 'rb'), encoding=\"latin1\")\n",
    "\n",
    "labels = np.array(list(map(lambda participant : participant['labels'], rawData)))\n",
    "data = np.array(list(map(lambda participant : participant['data'], rawData)))\n",
    "\n",
    "def get_y(emotion):\n",
    "    return (labels.reshape(-1, 4)[:,emotion] >= 5).astype(int)\n",
    "\n",
    "def get_peripheral_x():\n",
    "    return data[:, :, 32:, :].reshape(-1, 8, 8064)\n",
    "\n",
    "def recall_m(y_true, y_pred):\n",
    "    true_positives = K.sum(K.round(K.clip(y_true * y_pred, 0, 1)))\n",
    "    possible_positives = K.sum(K.round(K.clip(y_true, 0, 1)))\n",
    "    recall = true_positives / (possible_positives + K.epsilon())\n",
    "    return recall\n",
    "\n",
    "def precision_m(y_true, y_pred):\n",
    "    true_positives = K.sum(K.round(K.clip(y_true * y_pred, 0, 1)))\n",
    "    predicted_positives = K.sum(K.round(K.clip(y_pred, 0, 1)))\n",
    "    precision = true_positives / (predicted_positives + K.epsilon())\n",
    "    return precision\n",
    "\n",
    "def f1_m(y_true, y_pred):\n",
    "    precision = precision_m(y_true, y_pred)\n",
    "    recall = recall_m(y_true, y_pred)\n",
    "    return 2*((precision*recall)/(precision+recall+K.epsilon()))"
   ]
  },
  {
   "cell_type": "code",
   "execution_count": null,
   "metadata": {},
   "outputs": [],
   "source": [
    "from matplotlib import pyplot\n",
    "from keras.models import Sequential\n",
    "from keras.layers import Dense\n",
    "from keras.layers import LSTM\n",
    "from sklearn.model_selection import KFold\n",
    "from matplotlib import pyplot\n",
    "from keras.models import Sequential\n",
    "from keras.layers import Dense\n",
    "from keras.layers import LSTM\n",
    "\n",
    "import tensorflow as tf\n",
    "physical_devices = tf.config.list_physical_devices('GPU')\n",
    "tf.config.experimental.set_memory_growth(physical_devices[0], enable=True)\n",
    "\n",
    "Y = get_y(0)\n",
    "X = np.moveaxis(get_peripheral_x(), 1, 2)\n",
    "\n",
    "for i in range(4):\n",
    "    print(\"EMOTION NUMBER\", i)\n",
    "    Y = get_y(i)\n",
    "    kfold = KFold(n_splits=5, shuffle=False)\n",
    "    cvscores = []\n",
    "    for train, test in kfold.split(X, Y):\n",
    "        model = Sequential()\n",
    "        model.add(LSTM(100, input_dim=8))\n",
    "        model.add(Dense(1, activation='sigmoid'))\n",
    "        model.compile(loss='binary_crossentropy', optimizer='adam', metrics=[\"acc\", f1_m, precision_m, recall_m])\n",
    "\n",
    "        model.fit(X[train], Y[train], validation_data=(X[test], Y[test]), epochs=20, batch_size=120, verbose=2, shuffle=False)\n",
    "\n",
    "        scores = model.evaluate(X[test], Y[test], verbose=0)\n",
    "        print(\"%s: %.2f%%\" % (model.metrics_names[1], scores[1]*100))\n",
    "        cvscores.append(scores[1] * 100)\n",
    "\n",
    "    print(\"%.2f%% (+/- %.2f%%)\" % (np.mean(cvscores), np.std(cvscores)))    \n",
    "    print(\"EMOTION\", i)"
   ]
  },
  {
   "cell_type": "code",
   "execution_count": null,
   "metadata": {},
   "outputs": [],
   "source": []
  }
 ],
 "metadata": {
  "kernelspec": {
   "display_name": "Python 3",
   "language": "python",
   "name": "python3"
  },
  "language_info": {
   "codemirror_mode": {
    "name": "ipython",
    "version": 3
   },
   "file_extension": ".py",
   "mimetype": "text/x-python",
   "name": "python",
   "nbconvert_exporter": "python",
   "pygments_lexer": "ipython3",
   "version": "3.7.4"
  }
 },
 "nbformat": 4,
 "nbformat_minor": 2
}
