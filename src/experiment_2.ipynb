{
 "cells": [
  {
   "cell_type": "code",
   "execution_count": null,
   "metadata": {},
   "outputs": [],
   "source": [
    "import pickle\n",
    "import numpy as np\n",
    "\n",
    "participantCount = 32\n",
    "\n",
    "rawData = [{}]*participantCount\n",
    "\n",
    "for i in range(participantCount):\n",
    "    rawData[i] = pickle.load(open(f'../data/s{i+1:02}.dat', 'rb'), encoding=\"latin1\")\n",
    "\n",
    "labels = np.array(list(map(lambda participant : participant['labels'], rawData)))\n",
    "data = np.array(list(map(lambda participant : participant['data'], rawData)))\n",
    "\n",
    "def get_y(emotion):\n",
    "    return (labels.reshape(-1, 4)[:,emotion] > 5).astype(int)\n",
    "\n",
    "def get_eeg_x():\n",
    "    return data[:, :, :32, :].reshape(-1, 32, 8064)"
   ]
  },
  {
   "cell_type": "code",
   "execution_count": null,
   "metadata": {},
   "outputs": [],
   "source": [
    "from matplotlib import pyplot\n",
    "from keras.models import Sequential\n",
    "from keras.layers import Dense\n",
    "from keras.layers import LSTM\n",
    "from sklearn.model_selection import KFold\n",
    "from matplotlib import pyplot\n",
    "from keras.models import Sequential\n",
    "from keras.layers import Dense\n",
    "from keras.layers import LSTM\n",
    "\n",
    "import tensorflow as tf\n",
    "physical_devices = tf.config.list_physical_devices('GPU')\n",
    "tf.config.experimental.set_memory_growth(physical_devices[0], enable=True)\n",
    "\n",
    "\n",
    "Y = get_y(0)\n",
    "X = np.moveaxis(get_eeg_x(), 1, 2)\n",
    "\n",
    "for i in range(4):\n",
    "    print(\"EMOTION NUMBER\", i)\n",
    "    Y = get_y(i)\n",
    "    kfold = KFold(n_splits=5, shuffle=False)\n",
    "    cvscores = []\n",
    "    for train, test in kfold.split(X, Y):\n",
    "        model = Sequential()\n",
    "        model.add(LSTM(100, input_dim=32))\n",
    "        model.add(Dense(1, activation='sigmoid'))\n",
    "        model.compile(loss='binary_crossentropy', optimizer='adam', metrics=[\"acc\"])\n",
    "\n",
    "        model.fit(X[train], Y[train], validation_data=(X[test], Y[test]), epochs=20, batch_size=120, verbose=2, shuffle=False)\n",
    "\n",
    "        scores = model.evaluate(X[test], Y[test], verbose=0)\n",
    "        print(\"%s: %.2f%%\" % (model.metrics_names[1], scores[1]*100))\n",
    "        cvscores.append(scores[1] * 100)\n",
    "\n",
    "    print(\"%.2f%% (+/- %.2f%%)\" % (np.mean(cvscores), np.std(cvscores)))    \n",
    "    print(\"EMOTION\", i)"
   ]
  }
 ],
 "metadata": {
  "kernelspec": {
   "display_name": "Python 3",
   "language": "python",
   "name": "python3"
  },
  "language_info": {
   "codemirror_mode": {
    "name": "ipython",
    "version": 3
   },
   "file_extension": ".py",
   "mimetype": "text/x-python",
   "name": "python",
   "nbconvert_exporter": "python",
   "pygments_lexer": "ipython3",
   "version": "3.8.3"
  }
 },
 "nbformat": 4,
 "nbformat_minor": 4
}
